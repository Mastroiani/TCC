{
  "nbformat": 4,
  "nbformat_minor": 0,
  "metadata": {
    "colab": {
      "name": "SVM.ipynb",
      "provenance": [],
      "mount_file_id": "1g6iYAqjEV1J6Coot46u10zCEojDAWeWX",
      "authorship_tag": "ABX9TyPzRRmu9fszq0r66/JhgAIN",
      "include_colab_link": true
    },
    "kernelspec": {
      "name": "python3",
      "display_name": "Python 3"
    },
    "language_info": {
      "name": "python"
    }
  },
  "cells": [
    {
      "cell_type": "markdown",
      "metadata": {
        "id": "view-in-github",
        "colab_type": "text"
      },
      "source": [
        "<a href=\"https://colab.research.google.com/github/Mastroiani/TCC/blob/Sandbox/SVM.ipynb\" target=\"_parent\"><img src=\"https://colab.research.google.com/assets/colab-badge.svg\" alt=\"Open In Colab\"/></a>"
      ]
    },
    {
      "cell_type": "code",
      "metadata": {
        "colab": {
          "base_uri": "https://localhost:8080/"
        },
        "id": "Rid-krf7HjZv",
        "outputId": "5bf1ff86-9762-4e38-c3be-590800c33f26"
      },
      "source": [
        "!pip install plotly\n",
        "!pip install graphviz\n",
        "!pip install scikit-plot"
      ],
      "execution_count": 1,
      "outputs": [
        {
          "output_type": "stream",
          "name": "stdout",
          "text": [
            "Requirement already satisfied: plotly in /usr/local/lib/python3.7/dist-packages (4.4.1)\n",
            "Requirement already satisfied: six in /usr/local/lib/python3.7/dist-packages (from plotly) (1.15.0)\n",
            "Requirement already satisfied: retrying>=1.3.3 in /usr/local/lib/python3.7/dist-packages (from plotly) (1.3.3)\n",
            "Requirement already satisfied: graphviz in /usr/local/lib/python3.7/dist-packages (0.10.1)\n",
            "Collecting scikit-plot\n",
            "  Downloading scikit_plot-0.3.7-py3-none-any.whl (33 kB)\n",
            "Requirement already satisfied: joblib>=0.10 in /usr/local/lib/python3.7/dist-packages (from scikit-plot) (1.0.1)\n",
            "Requirement already satisfied: scipy>=0.9 in /usr/local/lib/python3.7/dist-packages (from scikit-plot) (1.4.1)\n",
            "Requirement already satisfied: scikit-learn>=0.18 in /usr/local/lib/python3.7/dist-packages (from scikit-plot) (0.22.2.post1)\n",
            "Requirement already satisfied: matplotlib>=1.4.0 in /usr/local/lib/python3.7/dist-packages (from scikit-plot) (3.2.2)\n",
            "Requirement already satisfied: pyparsing!=2.0.4,!=2.1.2,!=2.1.6,>=2.0.1 in /usr/local/lib/python3.7/dist-packages (from matplotlib>=1.4.0->scikit-plot) (2.4.7)\n",
            "Requirement already satisfied: numpy>=1.11 in /usr/local/lib/python3.7/dist-packages (from matplotlib>=1.4.0->scikit-plot) (1.19.5)\n",
            "Requirement already satisfied: kiwisolver>=1.0.1 in /usr/local/lib/python3.7/dist-packages (from matplotlib>=1.4.0->scikit-plot) (1.3.2)\n",
            "Requirement already satisfied: python-dateutil>=2.1 in /usr/local/lib/python3.7/dist-packages (from matplotlib>=1.4.0->scikit-plot) (2.8.2)\n",
            "Requirement already satisfied: cycler>=0.10 in /usr/local/lib/python3.7/dist-packages (from matplotlib>=1.4.0->scikit-plot) (0.10.0)\n",
            "Requirement already satisfied: six in /usr/local/lib/python3.7/dist-packages (from cycler>=0.10->matplotlib>=1.4.0->scikit-plot) (1.15.0)\n",
            "Installing collected packages: scikit-plot\n",
            "Successfully installed scikit-plot-0.3.7\n"
          ]
        }
      ]
    },
    {
      "cell_type": "code",
      "metadata": {
        "id": "U6rWMGxNIDnn",
        "colab": {
          "base_uri": "https://localhost:8080/"
        },
        "outputId": "cf33c178-e575-4319-e570-8db3518c7ebb"
      },
      "source": [
        "import pandas as pd\n",
        "import numpy as np\n",
        "\n",
        "from time import time\n",
        "\n",
        "import matplotlib.pyplot as plt\n",
        "import plotly.express as px\n",
        "import plotly.graph_objects as go\n",
        "from IPython.display import Image  \n",
        "import pydotplus\n",
        "import pickle\n",
        "\n",
        "import seaborn as sns\n",
        "import scikitplot as skplt\n",
        "import matplotlib.pyplot as plt\n",
        "from sklearn import metrics \n",
        "from sklearn.metrics import accuracy_score, precision_score, recall_score, f1_score, confusion_matrix, ConfusionMatrixDisplay, matthews_corrcoef\n",
        "from sklearn.model_selection import train_test_split, GridSearchCV, cross_validate, cross_val_score\n",
        "from sklearn.tree import DecisionTreeClassifier, export_graphviz\n",
        "from sklearn.svm import SVC\n",
        "from sklearn.externals.six import StringIO\n",
        "from collections import Counter\n",
        "from sklearn.datasets import make_classification\n",
        "from matplotlib import pyplot\n",
        "from numpy import where"
      ],
      "execution_count": 2,
      "outputs": [
        {
          "output_type": "stream",
          "name": "stderr",
          "text": [
            "/usr/local/lib/python3.7/dist-packages/sklearn/externals/six.py:31: FutureWarning:\n",
            "\n",
            "The module is deprecated in version 0.21 and will be removed in version 0.23 since we've dropped support for Python 2.7. Please rely on the official version of six (https://pypi.org/project/six/).\n",
            "\n"
          ]
        }
      ]
    },
    {
      "cell_type": "code",
      "metadata": {
        "id": "jAJ8zog9_UE2"
      },
      "source": [
        "def pr_curve(ml):\n",
        "  y_probas = ml.predict_proba(X_test)\n",
        "  skplt.metrics.plot_precision_recall_curve(y_test, y_probas)\n",
        "  plt.show()"
      ],
      "execution_count": 3,
      "outputs": []
    },
    {
      "cell_type": "code",
      "metadata": {
        "id": "uNVoLhKh_s_2"
      },
      "source": [
        "def estat(ml):\n",
        "  print('*********** Estatísticas da Base de Treinamento ************************\\n')\n",
        "  print(metrics.classification_report(y_train, ml.predict(X_train), target_names=['0','1']))\n",
        "\n",
        "  print('*********** Estatísticas da Base de Teste ******************************\\n')\n",
        "  print(metrics.classification_report(y_test, ml.predict(X_test), target_names=['0','1']))\n",
        "\n",
        "  pr_curve(ml)"
      ],
      "execution_count": 4,
      "outputs": []
    },
    {
      "cell_type": "code",
      "metadata": {
        "id": "jfM2olnHADw3"
      },
      "source": [
        "def cv_imp(ml):\n",
        "  ml_a_scores_CV = cross_val_score(ml, X_train, y_train, cv = 10)\n",
        "  print(f'Média das Acurácias calculadas pelo CV....: {100*round(ml_a_scores_CV.mean(),4)}')\n",
        "  print(f'std médio das Acurácias calculadas pelo CV: {100*round(ml_a_scores_CV.std(),4)}')\n",
        "  print(ml_a_scores_CV)\n",
        "\n",
        "  df_importancia_variaveis = pd.DataFrame(zip(X.columns, ml.feature_importances_), columns= ['coluna', 'importancia'])\n",
        "  df_importancia_variaveis = df_importancia_variaveis.sort_values(by= ['importancia'], ascending=False)\n",
        "  print('\\n****************** Importância das Colunas **********************\\n')\n",
        "  print(df_importancia_variaveis)"
      ],
      "execution_count": 5,
      "outputs": []
    },
    {
      "cell_type": "code",
      "metadata": {
        "id": "AMXCfNeRAxgq"
      },
      "source": [
        "def pred_comp(ml):\n",
        "  y_pred = ml.predict(X_test)\n",
        "  y_real = np.array(y_test['incompatibil'].to_list())\n",
        "  print(f'Variáveis Preditas:\\n {y_pred}')\n",
        "  print(f'Variáveis Reais:\\n {y_real}')"
      ],
      "execution_count": 6,
      "outputs": []
    },
    {
      "cell_type": "code",
      "metadata": {
        "colab": {
          "base_uri": "https://localhost:8080/"
        },
        "id": "iwXE9vaCIJr3",
        "outputId": "54b49b01-0592-4464-ce82-bae41bc77f51"
      },
      "source": [
        "path = '/content/drive/MyDrive/TCCARQ7'\n",
        "name = 'dataset_preprocessado_TCC'\n",
        "\n",
        "df = pd.read_csv(f'{path}/{name}')\n",
        "df.shape"
      ],
      "execution_count": 8,
      "outputs": [
        {
          "output_type": "execute_result",
          "data": {
            "text/plain": [
              "(1180, 38)"
            ]
          },
          "metadata": {},
          "execution_count": 8
        }
      ]
    },
    {
      "cell_type": "code",
      "metadata": {
        "id": "WIbYGDE-Jrps"
      },
      "source": [
        "X = df[['pais_de_origem_enc', 'pais_de_aquisicao_enc','unidade_desembaraco_enc', 'incoterm_enc',\n",
        "       'qtde_estatistica',\n",
        "       'vmle_dolar',\n",
        "       'vl_frete_dolar',\n",
        "       'vl_seguro_dolar',\n",
        "       'valor_un_prod_dolar',\n",
        "       'qtd_comercial',\n",
        "       'peso_liquido_rateado',\n",
        "       'valor_frete_rateado',\n",
        "       'seguro_rateado',\n",
        "       'total_unitario_fob',\n",
        "       'fob_kg'\n",
        "       ]]\n",
        "\n",
        "y = df[['incompatibil']]"
      ],
      "execution_count": 9,
      "outputs": []
    },
    {
      "cell_type": "code",
      "metadata": {
        "id": "nBPJDSUTKZdl",
        "colab": {
          "base_uri": "https://localhost:8080/"
        },
        "outputId": "2392f89b-9b69-4708-d803-cfe7e9e32b15"
      },
      "source": [
        "X_train, X_test, y_train, y_test = train_test_split(X, y, test_size = 0.3, stratify=y, random_state = 64)\n",
        "print(X_train.shape,X_test.shape,y_train.shape,y_test.shape)"
      ],
      "execution_count": 10,
      "outputs": [
        {
          "output_type": "stream",
          "name": "stdout",
          "text": [
            "(826, 15) (354, 15) (826, 1) (354, 1)\n"
          ]
        }
      ]
    },
    {
      "cell_type": "code",
      "metadata": {
        "id": "ewihSkLK_9EI"
      },
      "source": [
        "def mostra_confusion_matrix(cf,\n",
        "    group_names = None, categories = 'auto', count = True, percent = True, cbar = True, xyticks = False, xyplotlabels = True, sum_stats = True, figsize = (6, 6), cmap = 'Reds'):\n",
        "    \n",
        "    # Gera o texto dentro de cada quadrado\n",
        "    blanks = ['' for i in range(cf.size)]\n",
        "\n",
        "    if group_names and len(group_names)==cf.size:\n",
        "        group_labels = [\"{}\\n\".format(value) for value in group_names]\n",
        "    else:\n",
        "        group_labels = blanks\n",
        "\n",
        "    if count:\n",
        "        group_counts = [\"{0:0.0f}\\n\".format(value) for value in cf.flatten()]\n",
        "    else:\n",
        "        group_counts = blanks\n",
        "\n",
        "    if percent:\n",
        "        group_percentages = [\"{0:.2%}\".format(value) for value in cf.flatten()/np.sum(cf)]\n",
        "    else:\n",
        "        group_percentages = blanks\n",
        "\n",
        "    box_labels = [f\"{v1}{v2}{v3}\".strip() for v1, v2, v3 in zip(group_labels,group_counts,group_percentages)]\n",
        "    box_labels = np.asarray(box_labels).reshape(cf.shape[0],cf.shape[1])\n",
        "\n",
        "    # Gera estastísticas de teste\n",
        "    if sum_stats:\n",
        "        accuracy = np.trace(cf) / float(np.sum(cf))\n",
        "\n",
        "        # caso se trate de matriz confusão binária informa estatísticas adicionais (Precisão, Revocação e F1 Score)\n",
        "        if len(cf)==2:\n",
        "            precision = cf[1,1] / sum(cf[:,1])\n",
        "            recall    = cf[1,1] / sum(cf[1,:])\n",
        "            f1_score  = 2*precision*recall / (precision + recall)\n",
        "            stats_text = \"\\n\\nAcurácia={:0.4f}\\nPrecisão={:0.4f}\\nRevocação={:0.4f}\\nF1 Score={:0.4f}\".format(accuracy,precision,recall,f1_score)\n",
        "        else:\n",
        "            stats_text = \"\\n\\nAcurácia={:0.4f}\".format(accuracy)\n",
        "    else:\n",
        "        stats_text = \"\"\n",
        "\n",
        "    # Plota o mapa de calor\n",
        "    plt.figure(figsize=figsize)\n",
        "    sns.heatmap(cf,annot=box_labels,fmt=\"\",cmap=cmap,cbar=cbar,xticklabels=categories,yticklabels=categories)\n",
        "\n",
        "    if xyplotlabels:\n",
        "        plt.ylabel('True label')\n",
        "        plt.xlabel('Predicted label' + stats_text)\n",
        "    else:\n",
        "        plt.xlabel(stats_text)"
      ],
      "execution_count": 11,
      "outputs": []
    },
    {
      "cell_type": "code",
      "metadata": {
        "id": "IfbJVcBqhtkI"
      },
      "source": [
        "# função de treinamento do modelo\n",
        "def train_model(ml):\n",
        "    ml.fit(X_train, y_train)\n",
        "    \n",
        "    # argumentos da função 'mostra_confusion_matrix'\n",
        "    cf_labels = ['True Negative', 'False Positive', 'False Negative', 'True Positive']\n",
        "    cf_categories = [0,1]\n",
        "    pred = ml.predict(X_test)\n",
        "    cm = confusion_matrix(y_test, pred)\n",
        "    \n",
        "    #função de plotagem da matriz confusão e estatísticas de teste relacionadas ao modelo\n",
        "    mostra_confusion_matrix(cm, group_names = cf_labels, categories= cf_categories)"
      ],
      "execution_count": 12,
      "outputs": []
    },
    {
      "cell_type": "code",
      "metadata": {
        "colab": {
          "base_uri": "https://localhost:8080/",
          "height": 582
        },
        "id": "aLRVRTcTHGP9",
        "outputId": "b083ac7d-3a51-4d94-da88-02276cd9344f"
      },
      "source": [
        "# instanciando modelo 'ml_SVC' de hiperparâmetros default\n",
        "ml_SVC = SVC(probability=True, random_state=64)\n",
        "print(ml_SVC)\n",
        "\n",
        "# executando o treinamento do modelo\n",
        "train_model(ml_SVC)"
      ],
      "execution_count": 13,
      "outputs": [
        {
          "output_type": "stream",
          "name": "stdout",
          "text": [
            "SVC(C=1.0, break_ties=False, cache_size=200, class_weight=None, coef0=0.0,\n",
            "    decision_function_shape='ovr', degree=3, gamma='scale', kernel='rbf',\n",
            "    max_iter=-1, probability=True, random_state=64, shrinking=True, tol=0.001,\n",
            "    verbose=False)\n"
          ]
        },
        {
          "output_type": "stream",
          "name": "stderr",
          "text": [
            "/usr/local/lib/python3.7/dist-packages/sklearn/utils/validation.py:760: DataConversionWarning:\n",
            "\n",
            "A column-vector y was passed when a 1d array was expected. Please change the shape of y to (n_samples, ), for example using ravel().\n",
            "\n"
          ]
        },
        {
          "output_type": "display_data",
          "data": {
            "image/png": "[encoded data removed]",
            "text/plain": [
              "<Figure size 432x432 with 2 Axes>"
            ]
          },
          "metadata": {
            "needs_background": "light"
          }
        }
      ]
    },
    {
      "cell_type": "code",
      "metadata": {
        "colab": {
          "base_uri": "https://localhost:8080/",
          "height": 419
        },
        "id": "w56uz4snozNI",
        "outputId": "47e7203e-04db-47b9-a293-d9f2a868221e"
      },
      "source": [
        "y_train"
      ],
      "execution_count": 16,
      "outputs": [
        {
          "output_type": "execute_result",
          "data": {
            "text/html": [
              "<div>\n",
              "<style scoped>\n",
              "    .dataframe tbody tr th:only-of-type {\n",
              "        vertical-align: middle;\n",
              "    }\n",
              "\n",
              "    .dataframe tbody tr th {\n",
              "        vertical-align: top;\n",
              "    }\n",
              "\n",
              "    .dataframe thead th {\n",
              "        text-align: right;\n",
              "    }\n",
              "</style>\n",
              "<table border=\"1\" class=\"dataframe\">\n",
              "  <thead>\n",
              "    <tr style=\"text-align: right;\">\n",
              "      <th></th>\n",
              "      <th>incompatibil</th>\n",
              "    </tr>\n",
              "  </thead>\n",
              "  <tbody>\n",
              "    <tr>\n",
              "      <th>1130</th>\n",
              "      <td>0</td>\n",
              "    </tr>\n",
              "    <tr>\n",
              "      <th>351</th>\n",
              "      <td>0</td>\n",
              "    </tr>\n",
              "    <tr>\n",
              "      <th>655</th>\n",
              "      <td>1</td>\n",
              "    </tr>\n",
              "    <tr>\n",
              "      <th>948</th>\n",
              "      <td>0</td>\n",
              "    </tr>\n",
              "    <tr>\n",
              "      <th>919</th>\n",
              "      <td>1</td>\n",
              "    </tr>\n",
              "    <tr>\n",
              "      <th>...</th>\n",
              "      <td>...</td>\n",
              "    </tr>\n",
              "    <tr>\n",
              "      <th>814</th>\n",
              "      <td>1</td>\n",
              "    </tr>\n",
              "    <tr>\n",
              "      <th>498</th>\n",
              "      <td>0</td>\n",
              "    </tr>\n",
              "    <tr>\n",
              "      <th>368</th>\n",
              "      <td>0</td>\n",
              "    </tr>\n",
              "    <tr>\n",
              "      <th>220</th>\n",
              "      <td>0</td>\n",
              "    </tr>\n",
              "    <tr>\n",
              "      <th>1135</th>\n",
              "      <td>0</td>\n",
              "    </tr>\n",
              "  </tbody>\n",
              "</table>\n",
              "<p>826 rows × 1 columns</p>\n",
              "</div>"
            ],
            "text/plain": [
              "      incompatibil\n",
              "1130             0\n",
              "351              0\n",
              "655              1\n",
              "948              0\n",
              "919              1\n",
              "...            ...\n",
              "814              1\n",
              "498              0\n",
              "368              0\n",
              "220              0\n",
              "1135             0\n",
              "\n",
              "[826 rows x 1 columns]"
            ]
          },
          "metadata": {},
          "execution_count": 16
        }
      ]
    },
    {
      "cell_type": "code",
      "metadata": {
        "colab": {
          "base_uri": "https://localhost:8080/",
          "height": 180
        },
        "id": "4ufGR71apZAC",
        "outputId": "1650f65a-0977-4eb5-8bec-a0b37999947c"
      },
      "source": [
        "oversample = SMOTE()\n",
        "X_train2, y_train2 = oversample.fit_resample(X_train, y_train)"
      ],
      "execution_count": 18,
      "outputs": [
        {
          "output_type": "error",
          "ename": "NameError",
          "evalue": "ignored",
          "traceback": [
            "\u001b[0;31m---------------------------------------------------------------------------\u001b[0m",
            "\u001b[0;31mNameError\u001b[0m                                 Traceback (most recent call last)",
            "\u001b[0;32m<ipython-input-18-7ad8c289bdc5>\u001b[0m in \u001b[0;36m<module>\u001b[0;34m()\u001b[0m\n\u001b[0;32m----> 1\u001b[0;31m \u001b[0moversample\u001b[0m \u001b[0;34m=\u001b[0m \u001b[0mSMOTE\u001b[0m\u001b[0;34m(\u001b[0m\u001b[0;34m)\u001b[0m\u001b[0;34m\u001b[0m\u001b[0;34m\u001b[0m\u001b[0m\n\u001b[0m\u001b[1;32m      2\u001b[0m \u001b[0mX_train2\u001b[0m\u001b[0;34m,\u001b[0m \u001b[0my_train2\u001b[0m \u001b[0;34m=\u001b[0m \u001b[0moversample\u001b[0m\u001b[0;34m.\u001b[0m\u001b[0mfit_resample\u001b[0m\u001b[0;34m(\u001b[0m\u001b[0mX_train\u001b[0m\u001b[0;34m,\u001b[0m \u001b[0my_train\u001b[0m\u001b[0;34m)\u001b[0m\u001b[0;34m\u001b[0m\u001b[0;34m\u001b[0m\u001b[0m\n",
            "\u001b[0;31mNameError\u001b[0m: name 'SMOTE' is not defined"
          ]
        }
      ]
    },
    {
      "cell_type": "code",
      "metadata": {
        "colab": {
          "base_uri": "https://localhost:8080/"
        },
        "id": "lfFSuBcxoU6L",
        "outputId": "eed327a0-dd49-4bd8-cb38-f63388226a92"
      },
      "source": [
        "counter = Counter(y_train)\n",
        "print(counter)"
      ],
      "execution_count": 17,
      "outputs": [
        {
          "output_type": "stream",
          "name": "stdout",
          "text": [
            "Counter({'incompatibil': 1})\n"
          ]
        }
      ]
    }
  ]
}