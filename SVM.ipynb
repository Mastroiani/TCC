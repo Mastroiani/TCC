{
  "nbformat": 4,
  "nbformat_minor": 0,
  "metadata": {
    "colab": {
      "name": "SVM.ipynb",
      "provenance": [],
      "mount_file_id": "1g6iYAqjEV1J6Coot46u10zCEojDAWeWX",
      "authorship_tag": "ABX9TyPN+kjhwCJ6uo4IXqGzS25A",
      "include_colab_link": true
    },
    "kernelspec": {
      "name": "python3",
      "display_name": "Python 3"
    },
    "language_info": {
      "name": "python"
    }
  },
  "cells": [
    {
      "cell_type": "markdown",
      "metadata": {
        "id": "view-in-github",
        "colab_type": "text"
      },
      "source": [
        "<a href=\"https://colab.research.google.com/github/Mastroiani/TCC/blob/Sandbox/SVM.ipynb\" target=\"_parent\"><img src=\"https://colab.research.google.com/assets/colab-badge.svg\" alt=\"Open In Colab\"/></a>"
      ]
    },
    {
      "cell_type": "code",
      "metadata": {
        "colab": {
          "base_uri": "https://localhost:8080/"
        },
        "id": "Rid-krf7HjZv",
        "outputId": "ed4ce71a-12f7-4e86-cc99-70fa4da5ee4f"
      },
      "source": [
        "!pip install plotly\n",
        "!pip install graphviz\n",
        "!pip install scikit-plot"
      ],
      "execution_count": 3,
      "outputs": [
        {
          "output_type": "stream",
          "name": "stdout",
          "text": [
            "Requirement already satisfied: plotly in /usr/local/lib/python3.7/dist-packages (4.4.1)\n",
            "Requirement already satisfied: six in /usr/local/lib/python3.7/dist-packages (from plotly) (1.15.0)\n",
            "Requirement already satisfied: retrying>=1.3.3 in /usr/local/lib/python3.7/dist-packages (from plotly) (1.3.3)\n",
            "Requirement already satisfied: graphviz in /usr/local/lib/python3.7/dist-packages (0.10.1)\n",
            "Collecting scikit-plot\n",
            "  Downloading scikit_plot-0.3.7-py3-none-any.whl (33 kB)\n",
            "Requirement already satisfied: scikit-learn>=0.18 in /usr/local/lib/python3.7/dist-packages (from scikit-plot) (0.22.2.post1)\n",
            "Requirement already satisfied: matplotlib>=1.4.0 in /usr/local/lib/python3.7/dist-packages (from scikit-plot) (3.2.2)\n",
            "Requirement already satisfied: scipy>=0.9 in /usr/local/lib/python3.7/dist-packages (from scikit-plot) (1.4.1)\n",
            "Requirement already satisfied: joblib>=0.10 in /usr/local/lib/python3.7/dist-packages (from scikit-plot) (1.0.1)\n",
            "Requirement already satisfied: numpy>=1.11 in /usr/local/lib/python3.7/dist-packages (from matplotlib>=1.4.0->scikit-plot) (1.19.5)\n",
            "Requirement already satisfied: cycler>=0.10 in /usr/local/lib/python3.7/dist-packages (from matplotlib>=1.4.0->scikit-plot) (0.10.0)\n",
            "Requirement already satisfied: python-dateutil>=2.1 in /usr/local/lib/python3.7/dist-packages (from matplotlib>=1.4.0->scikit-plot) (2.8.2)\n",
            "Requirement already satisfied: pyparsing!=2.0.4,!=2.1.2,!=2.1.6,>=2.0.1 in /usr/local/lib/python3.7/dist-packages (from matplotlib>=1.4.0->scikit-plot) (2.4.7)\n",
            "Requirement already satisfied: kiwisolver>=1.0.1 in /usr/local/lib/python3.7/dist-packages (from matplotlib>=1.4.0->scikit-plot) (1.3.2)\n",
            "Requirement already satisfied: six in /usr/local/lib/python3.7/dist-packages (from cycler>=0.10->matplotlib>=1.4.0->scikit-plot) (1.15.0)\n",
            "Installing collected packages: scikit-plot\n",
            "Successfully installed scikit-plot-0.3.7\n"
          ]
        }
      ]
    },
    {
      "cell_type": "code",
      "metadata": {
        "id": "m8JAA1HcX74B",
        "outputId": "a1821e81-21d3-4057-8c40-de72cde1c008",
        "colab": {
          "base_uri": "https://localhost:8080/"
        }
      },
      "source": [
        "pip install imbalanced-learn"
      ],
      "execution_count": 4,
      "outputs": [
        {
          "output_type": "stream",
          "name": "stdout",
          "text": [
            "Requirement already satisfied: imbalanced-learn in /usr/local/lib/python3.7/dist-packages (0.4.3)\n",
            "Requirement already satisfied: numpy>=1.8.2 in /usr/local/lib/python3.7/dist-packages (from imbalanced-learn) (1.19.5)\n",
            "Requirement already satisfied: scipy>=0.13.3 in /usr/local/lib/python3.7/dist-packages (from imbalanced-learn) (1.4.1)\n",
            "Requirement already satisfied: scikit-learn>=0.20 in /usr/local/lib/python3.7/dist-packages (from imbalanced-learn) (0.22.2.post1)\n",
            "Requirement already satisfied: joblib>=0.11 in /usr/local/lib/python3.7/dist-packages (from scikit-learn>=0.20->imbalanced-learn) (1.0.1)\n"
          ]
        }
      ]
    },
    {
      "cell_type": "code",
      "metadata": {
        "id": "QvxjtZ7RUV2T",
        "outputId": "996a4525-8a26-4f71-cd8b-273055fa361b",
        "colab": {
          "base_uri": "https://localhost:8080/"
        }
      },
      "source": [
        "from google.colab import drive\n",
        "drive.mount('/content/drive')"
      ],
      "execution_count": 5,
      "outputs": [
        {
          "output_type": "stream",
          "name": "stdout",
          "text": [
            "Mounted at /content/drive\n"
          ]
        }
      ]
    },
    {
      "cell_type": "code",
      "metadata": {
        "id": "NXzIqoRHXyuI",
        "outputId": "f534bfd8-aa06-4912-dcb5-12df617ad6fd",
        "colab": {
          "base_uri": "https://localhost:8080/"
        }
      },
      "source": [
        "import imblearn\n",
        "print(imblearn.__version__)"
      ],
      "execution_count": 6,
      "outputs": [
        {
          "output_type": "stream",
          "name": "stdout",
          "text": [
            "0.4.3\n"
          ]
        },
        {
          "output_type": "stream",
          "name": "stderr",
          "text": [
            "/usr/local/lib/python3.7/dist-packages/sklearn/externals/six.py:31: FutureWarning: The module is deprecated in version 0.21 and will be removed in version 0.23 since we've dropped support for Python 2.7. Please rely on the official version of six (https://pypi.org/project/six/).\n",
            "  \"(https://pypi.org/project/six/).\", FutureWarning)\n",
            "/usr/local/lib/python3.7/dist-packages/sklearn/utils/deprecation.py:144: FutureWarning: The sklearn.neighbors.base module is  deprecated in version 0.22 and will be removed in version 0.24. The corresponding classes / functions should instead be imported from sklearn.neighbors. Anything that cannot be imported from sklearn.neighbors is now part of the private API.\n",
            "  warnings.warn(message, FutureWarning)\n"
          ]
        }
      ]
    },
    {
      "cell_type": "code",
      "metadata": {
        "id": "U6rWMGxNIDnn"
      },
      "source": [
        "import pandas as pd\n",
        "import numpy as np\n",
        "from time import time\n",
        "import matplotlib.pyplot as plt\n",
        "import plotly.express as px\n",
        "import plotly.graph_objects as go\n",
        "from IPython.display import Image  \n",
        "import pydotplus\n",
        "import pickle\n",
        "\n",
        "import seaborn as sns\n",
        "import scikitplot as skplt\n",
        "import matplotlib.pyplot as plt\n",
        "from sklearn import metrics \n",
        "from sklearn.metrics import accuracy_score, precision_score, recall_score, f1_score, confusion_matrix, ConfusionMatrixDisplay, matthews_corrcoef\n",
        "from sklearn.model_selection import train_test_split, GridSearchCV, cross_validate, cross_val_score\n",
        "from sklearn.tree import DecisionTreeClassifier, export_graphviz\n",
        "from sklearn.svm import SVC\n",
        "from sklearn.externals.six import StringIO\n",
        "from sklearn.datasets import make_classification\n",
        "from matplotlib import pyplot\n",
        "from numpy import where"
      ],
      "execution_count": 7,
      "outputs": []
    },
    {
      "cell_type": "markdown",
      "metadata": {
        "id": "hp-d9gjzUoWA"
      },
      "source": [
        "# Funções"
      ]
    },
    {
      "cell_type": "code",
      "metadata": {
        "id": "jAJ8zog9_UE2"
      },
      "source": [
        "def pr_curve(ml):\n",
        "  y_probas = ml.predict_proba(X_test)\n",
        "  skplt.metrics.plot_precision_recall_curve(y_test, y_probas)\n",
        "  plt.show()"
      ],
      "execution_count": 8,
      "outputs": []
    },
    {
      "cell_type": "code",
      "metadata": {
        "id": "uNVoLhKh_s_2"
      },
      "source": [
        "def estat(ml,X,y):\n",
        "  print('*********** Estatísticas da Base de Treinamento ************************\\n')\n",
        "  print(metrics.classification_report(y, ml.predict(X), target_names=['0','1']))\n",
        "\n",
        "  print('*********** Estatísticas da Base de Teste ******************************\\n')\n",
        "  print(metrics.classification_report(y_test, ml.predict(X_test), target_names=['0','1']))\n",
        "\n",
        "  pr_curve(ml)"
      ],
      "execution_count": 64,
      "outputs": []
    },
    {
      "cell_type": "code",
      "metadata": {
        "id": "jfM2olnHADw3"
      },
      "source": [
        "def cv_imp(ml):\n",
        "  ml_a_scores_CV = cross_val_score(ml, X_train, y_train, cv = 10)\n",
        "  print(f'Média das Acurácias calculadas pelo CV....: {100*round(ml_a_scores_CV.mean(),4)}')\n",
        "  print(f'std médio das Acurácias calculadas pelo CV: {100*round(ml_a_scores_CV.std(),4)}')\n",
        "  print(ml_a_scores_CV)\n",
        "\n",
        "  df_importancia_variaveis = pd.DataFrame(zip(X.columns, ml.feature_importances_), columns= ['coluna', 'importancia'])\n",
        "  df_importancia_variaveis = df_importancia_variaveis.sort_values(by= ['importancia'], ascending=False)\n",
        "  print('\\n****************** Importância das Colunas **********************\\n')\n",
        "  print(df_importancia_variaveis)"
      ],
      "execution_count": 10,
      "outputs": []
    },
    {
      "cell_type": "code",
      "metadata": {
        "id": "AMXCfNeRAxgq"
      },
      "source": [
        "def pred_comp(ml):\n",
        "  y_pred = ml.predict(X_test)\n",
        "  y_real = np.array(y_test['incompatibil'].to_list())\n",
        "  print(f'Variáveis Preditas:\\n {y_pred}')\n",
        "  print(f'Variáveis Reais:\\n {y_real}')"
      ],
      "execution_count": 11,
      "outputs": []
    },
    {
      "cell_type": "code",
      "metadata": {
        "id": "ewihSkLK_9EI"
      },
      "source": [
        "def mostra_confusion_matrix(cf,\n",
        "    group_names = None, categories = 'auto', count = True, percent = True, cbar = True, xyticks = False, xyplotlabels = True, sum_stats = True, figsize = (6, 6), cmap = 'Reds'):\n",
        "    \n",
        "    # Gera o texto dentro de cada quadrado\n",
        "    blanks = ['' for i in range(cf.size)]\n",
        "\n",
        "    if group_names and len(group_names)==cf.size:\n",
        "        group_labels = [\"{}\\n\".format(value) for value in group_names]\n",
        "    else:\n",
        "        group_labels = blanks\n",
        "\n",
        "    if count:\n",
        "        group_counts = [\"{0:0.0f}\\n\".format(value) for value in cf.flatten()]\n",
        "    else:\n",
        "        group_counts = blanks\n",
        "\n",
        "    if percent:\n",
        "        group_percentages = [\"{0:.2%}\".format(value) for value in cf.flatten()/np.sum(cf)]\n",
        "    else:\n",
        "        group_percentages = blanks\n",
        "\n",
        "    box_labels = [f\"{v1}{v2}{v3}\".strip() for v1, v2, v3 in zip(group_labels,group_counts,group_percentages)]\n",
        "    box_labels = np.asarray(box_labels).reshape(cf.shape[0],cf.shape[1])\n",
        "\n",
        "    # Gera estastísticas de teste\n",
        "    if sum_stats:\n",
        "        accuracy = np.trace(cf) / float(np.sum(cf))\n",
        "\n",
        "        # caso se trate de matriz confusão binária informa estatísticas adicionais (Precisão, Revocação e F1 Score)\n",
        "        if len(cf)==2:\n",
        "            precision = cf[1,1] / sum(cf[:,1])\n",
        "            recall    = cf[1,1] / sum(cf[1,:])\n",
        "            f1_score  = 2*precision*recall / (precision + recall)\n",
        "            stats_text = \"\\n\\nAcurácia={:0.4f}\\nPrecisão={:0.4f}\\nRevocação={:0.4f}\\nF1 Score={:0.4f}\".format(accuracy,precision,recall,f1_score)\n",
        "        else:\n",
        "            stats_text = \"\\n\\nAcurácia={:0.4f}\".format(accuracy)\n",
        "    else:\n",
        "        stats_text = \"\"\n",
        "\n",
        "    # Plota o mapa de calor\n",
        "    plt.figure(figsize=figsize)\n",
        "    sns.heatmap(cf,annot=box_labels,fmt=\"\",cmap=cmap,cbar=cbar,xticklabels=categories,yticklabels=categories)\n",
        "\n",
        "    if xyplotlabels:\n",
        "        plt.ylabel('True label')\n",
        "        plt.xlabel('Predicted label' + stats_text)\n",
        "    else:\n",
        "        plt.xlabel(stats_text)"
      ],
      "execution_count": 12,
      "outputs": []
    },
    {
      "cell_type": "code",
      "metadata": {
        "id": "IfbJVcBqhtkI"
      },
      "source": [
        "# função de treinamento do modelo\n",
        "def train_model(ml,X,y):\n",
        "    ml.fit(X, y)\n",
        "    \n",
        "    # argumentos da função 'mostra_confusion_matrix'\n",
        "    cf_labels = ['True Negative', 'False Positive', 'False Negative', 'True Positive']\n",
        "    cf_categories = [0,1]\n",
        "    pred = ml.predict(X_test)\n",
        "    cm = confusion_matrix(y_test, pred)\n",
        "    \n",
        "    #função de plotagem da matriz confusão e estatísticas de teste relacionadas ao modelo\n",
        "    mostra_confusion_matrix(cm, group_names = cf_labels, categories= cf_categories)"
      ],
      "execution_count": 13,
      "outputs": []
    },
    {
      "cell_type": "markdown",
      "metadata": {
        "id": "0C-IOf2kUthP"
      },
      "source": [
        "# dados"
      ]
    },
    {
      "cell_type": "code",
      "metadata": {
        "colab": {
          "base_uri": "https://localhost:8080/"
        },
        "id": "iwXE9vaCIJr3",
        "outputId": "1ae2ab7b-d7f6-4d4b-ab6e-fb42144fed25"
      },
      "source": [
        "path = '/content/drive/MyDrive/TCCARQ7'\n",
        "name = 'dataset_preprocessado_TCC'\n",
        "\n",
        "df = pd.read_csv(f'{path}/{name}')\n",
        "df.shape"
      ],
      "execution_count": 14,
      "outputs": [
        {
          "output_type": "execute_result",
          "data": {
            "text/plain": [
              "(1180, 38)"
            ]
          },
          "metadata": {},
          "execution_count": 14
        }
      ]
    },
    {
      "cell_type": "code",
      "metadata": {
        "id": "WIbYGDE-Jrps"
      },
      "source": [
        "X = df[['pais_de_origem_enc', 'pais_de_aquisicao_enc','unidade_desembaraco_enc', 'incoterm_enc',\n",
        "       'qtde_estatistica',\n",
        "       'vmle_dolar',\n",
        "       'vl_frete_dolar',\n",
        "       'vl_seguro_dolar',\n",
        "       'valor_un_prod_dolar',\n",
        "       'qtd_comercial',\n",
        "       'peso_liquido_rateado',\n",
        "       'valor_frete_rateado',\n",
        "       'seguro_rateado',\n",
        "       'total_unitario_fob',\n",
        "       'fob_kg'\n",
        "       ]]\n",
        "\n",
        "y = df[['incompatibil']]"
      ],
      "execution_count": 15,
      "outputs": []
    },
    {
      "cell_type": "code",
      "metadata": {
        "id": "nBPJDSUTKZdl",
        "colab": {
          "base_uri": "https://localhost:8080/"
        },
        "outputId": "2a8c1b55-a036-43a9-aea5-83f2368c07ca"
      },
      "source": [
        "X_train, X_test, y_train, y_test = train_test_split(X, y, test_size = 0.3, stratify=y, random_state = 64)\n",
        "print(X_train.shape,X_test.shape,y_train.shape,y_test.shape)"
      ],
      "execution_count": 16,
      "outputs": [
        {
          "output_type": "stream",
          "name": "stdout",
          "text": [
            "(826, 15) (354, 15) (826, 1) (354, 1)\n"
          ]
        }
      ]
    },
    {
      "cell_type": "markdown",
      "metadata": {
        "id": "LlFJNXaHVAci"
      },
      "source": [
        "#Modelo"
      ]
    },
    {
      "cell_type": "code",
      "metadata": {
        "colab": {
          "base_uri": "https://localhost:8080/",
          "height": 582
        },
        "id": "aLRVRTcTHGP9",
        "outputId": "d975e9e6-66d8-45ce-977e-c7191288e2a6"
      },
      "source": [
        "# instanciando modelo 'ml_SVC' de hiperparâmetros default\n",
        "ml_SVC = SVC(probability=True, random_state=64)\n",
        "print(ml_SVC)\n",
        "\n",
        "# executando o treinamento do modelo\n",
        "train_model(ml_SVC, X_train, y_train)"
      ],
      "execution_count": 65,
      "outputs": [
        {
          "output_type": "stream",
          "name": "stdout",
          "text": [
            "SVC(C=1.0, break_ties=False, cache_size=200, class_weight=None, coef0=0.0,\n",
            "    decision_function_shape='ovr', degree=3, gamma='scale', kernel='rbf',\n",
            "    max_iter=-1, probability=True, random_state=64, shrinking=True, tol=0.001,\n",
            "    verbose=False)\n"
          ]
        },
        {
          "output_type": "stream",
          "name": "stderr",
          "text": [
            "/usr/local/lib/python3.7/dist-packages/sklearn/utils/validation.py:760: DataConversionWarning:\n",
            "\n",
            "A column-vector y was passed when a 1d array was expected. Please change the shape of y to (n_samples, ), for example using ravel().\n",
            "\n"
          ]
        },
        {
          "output_type": "display_data",
          "data": {
            "image/png": "[encoded data removed]",
            "text/plain": [
              "<Figure size 432x432 with 2 Axes>"
            ]
          },
          "metadata": {
            "needs_background": "light"
          }
        }
      ]
    },
    {
      "cell_type": "code",
      "metadata": {
        "id": "TJhR6bVwc-5X",
        "outputId": "f47cb3c0-ff70-4fec-88b5-1d9680282a42",
        "colab": {
          "base_uri": "https://localhost:8080/",
          "height": 737
        }
      },
      "source": [
        "estat(ml_SVC, X_train, y_train)"
      ],
      "execution_count": 66,
      "outputs": [
        {
          "output_type": "stream",
          "name": "stdout",
          "text": [
            "*********** Estatísticas da Base de Treinamento ************************\n",
            "\n",
            "              precision    recall  f1-score   support\n",
            "\n",
            "           0       0.80      0.97      0.88       644\n",
            "           1       0.62      0.16      0.26       182\n",
            "\n",
            "    accuracy                           0.79       826\n",
            "   macro avg       0.71      0.57      0.57       826\n",
            "weighted avg       0.77      0.79      0.74       826\n",
            "\n",
            "*********** Estatísticas da Base de Teste ******************************\n",
            "\n",
            "              precision    recall  f1-score   support\n",
            "\n",
            "           0       0.80      0.96      0.88       276\n",
            "           1       0.57      0.17      0.26        78\n",
            "\n",
            "    accuracy                           0.79       354\n",
            "   macro avg       0.68      0.57      0.57       354\n",
            "weighted avg       0.75      0.79      0.74       354\n",
            "\n"
          ]
        },
        {
          "output_type": "stream",
          "name": "stderr",
          "text": [
            "/usr/local/lib/python3.7/dist-packages/sklearn/utils/deprecation.py:87: FutureWarning:\n",
            "\n",
            "Function plot_precision_recall_curve is deprecated; This will be removed in v0.5.0. Please use scikitplot.metrics.plot_precision_recall instead.\n",
            "\n"
          ]
        },
        {
          "output_type": "display_data",
          "data": {
            "image/png": "[encoded data removed]",
            "text/plain": [
              "<Figure size 432x288 with 1 Axes>"
            ]
          },
          "metadata": {
            "needs_background": "light"
          }
        }
      ]
    },
    {
      "cell_type": "code",
      "metadata": {
        "colab": {
          "base_uri": "https://localhost:8080/"
        },
        "id": "lfFSuBcxoU6L",
        "outputId": "ee361138-07a6-4092-e7f1-2dec37b0e6bf"
      },
      "source": [
        "counter = y_train.value_counts().to_numpy\n",
        "print(counter)\n",
        "print(X_train.info())\n"
      ],
      "execution_count": 45,
      "outputs": [
        {
          "output_type": "stream",
          "name": "stdout",
          "text": [
            "<bound method IndexOpsMixin.to_numpy of incompatibil\n",
            "0               644\n",
            "1               182\n",
            "dtype: int64>\n",
            "<class 'pandas.core.frame.DataFrame'>\n",
            "Int64Index: 826 entries, 1130 to 1135\n",
            "Data columns (total 15 columns):\n",
            " #   Column                   Non-Null Count  Dtype  \n",
            "---  ------                   --------------  -----  \n",
            " 0   pais_de_origem_enc       826 non-null    int64  \n",
            " 1   pais_de_aquisicao_enc    826 non-null    int64  \n",
            " 2   unidade_desembaraco_enc  826 non-null    int64  \n",
            " 3   incoterm_enc             826 non-null    int64  \n",
            " 4   qtde_estatistica         826 non-null    float64\n",
            " 5   vmle_dolar               826 non-null    float64\n",
            " 6   vl_frete_dolar           826 non-null    float64\n",
            " 7   vl_seguro_dolar          826 non-null    float64\n",
            " 8   valor_un_prod_dolar      826 non-null    float64\n",
            " 9   qtd_comercial            826 non-null    float64\n",
            " 10  peso_liquido_rateado     826 non-null    float64\n",
            " 11  valor_frete_rateado      826 non-null    float64\n",
            " 12  seguro_rateado           826 non-null    float64\n",
            " 13  total_unitario_fob       826 non-null    float64\n",
            " 14  fob_kg                   826 non-null    float64\n",
            "dtypes: float64(11), int64(4)\n",
            "memory usage: 103.2 KB\n",
            "None\n"
          ]
        }
      ]
    },
    {
      "cell_type": "code",
      "metadata": {
        "id": "7O0LVmkue6GN",
        "outputId": "bdeb5976-ec75-4739-b7a8-519c4d04fa86",
        "colab": {
          "base_uri": "https://localhost:8080/"
        }
      },
      "source": [
        "qtd = Counter(y_train['incompatibil'])\n",
        "qtd"
      ],
      "execution_count": 68,
      "outputs": [
        {
          "output_type": "execute_result",
          "data": {
            "text/plain": [
              "Counter({0: 644, 1: 182})"
            ]
          },
          "metadata": {},
          "execution_count": 68
        }
      ]
    },
    {
      "cell_type": "code",
      "metadata": {
        "id": "3rGqV6eRfHfV",
        "outputId": "7c9e15c4-9e8f-4120-80ac-bbcc1dbb795a",
        "colab": {
          "base_uri": "https://localhost:8080/"
        }
      },
      "source": [
        "np.round(100*qtd[1]/qtd[0], 4)"
      ],
      "execution_count": 69,
      "outputs": [
        {
          "output_type": "execute_result",
          "data": {
            "text/plain": [
              "28.2609"
            ]
          },
          "metadata": {},
          "execution_count": 69
        }
      ]
    },
    {
      "cell_type": "code",
      "metadata": {
        "id": "zyeS_A0iXWp0",
        "outputId": "930aaeba-c96a-4c32-c22b-4a96f6dea1f1",
        "colab": {
          "base_uri": "https://localhost:8080/",
          "height": 265
        }
      },
      "source": [
        "for label, _ in qtd.items():\n",
        "\trow_ix = np.where(y_train.values == label)[0]\n",
        "\tpyplot.scatter(X_train.values[row_ix, 4], X_train.values[row_ix, 14], label=str(label))\n",
        "plt.legend()\n",
        "plt.show()"
      ],
      "execution_count": 71,
      "outputs": [
        {
          "output_type": "display_data",
          "data": {
            "image/png": "[encoded data removed]",
            "text/plain": [
              "<Figure size 432x288 with 1 Axes>"
            ]
          },
          "metadata": {
            "needs_background": "light"
          }
        }
      ]
    },
    {
      "cell_type": "code",
      "metadata": {
        "id": "J4EF0KOEbUNZ"
      },
      "source": [
        "from imblearn.over_sampling import SMOTE, BorderlineSMOTE"
      ],
      "execution_count": 76,
      "outputs": []
    },
    {
      "cell_type": "code",
      "metadata": {
        "colab": {
          "base_uri": "https://localhost:8080/"
        },
        "id": "4ufGR71apZAC",
        "outputId": "08f720b4-c6e4-4c6b-ed40-e5c52828d657"
      },
      "source": [
        "oversample = BorderlineSMOTE()\n",
        "X_train2, y_train2 = oversample.fit_resample(X_train, y_train)"
      ],
      "execution_count": 77,
      "outputs": [
        {
          "output_type": "stream",
          "name": "stderr",
          "text": [
            "/usr/local/lib/python3.7/dist-packages/sklearn/utils/validation.py:760: DataConversionWarning:\n",
            "\n",
            "A column-vector y was passed when a 1d array was expected. Please change the shape of y to (n_samples, ), for example using ravel().\n",
            "\n",
            "/usr/local/lib/python3.7/dist-packages/sklearn/utils/deprecation.py:87: FutureWarning:\n",
            "\n",
            "Function safe_indexing is deprecated; safe_indexing is deprecated in version 0.22 and will be removed in version 0.24.\n",
            "\n",
            "/usr/local/lib/python3.7/dist-packages/sklearn/utils/deprecation.py:87: FutureWarning:\n",
            "\n",
            "Function safe_indexing is deprecated; safe_indexing is deprecated in version 0.22 and will be removed in version 0.24.\n",
            "\n",
            "/usr/local/lib/python3.7/dist-packages/sklearn/utils/deprecation.py:87: FutureWarning:\n",
            "\n",
            "Function safe_indexing is deprecated; safe_indexing is deprecated in version 0.22 and will be removed in version 0.24.\n",
            "\n"
          ]
        }
      ]
    },
    {
      "cell_type": "code",
      "metadata": {
        "id": "kw3uGTXLfKpN",
        "outputId": "bd545b7c-ac1a-4b7a-ea07-f88302a1afb9",
        "colab": {
          "base_uri": "https://localhost:8080/"
        }
      },
      "source": [
        "qtd2 = Counter(y_train2)\n",
        "print(qtd2)"
      ],
      "execution_count": 78,
      "outputs": [
        {
          "output_type": "stream",
          "name": "stdout",
          "text": [
            "Counter({0: 644, 1: 644})\n"
          ]
        }
      ]
    },
    {
      "cell_type": "code",
      "metadata": {
        "id": "S62M5dQzZ9jq",
        "outputId": "323dd704-1bda-47a3-bf7f-ee802db510de",
        "colab": {
          "base_uri": "https://localhost:8080/",
          "height": 265
        }
      },
      "source": [
        "for label, _ in qtd2.items():\n",
        "\trow_ix = where(y_train2 == label)[0]\n",
        "\tpyplot.scatter(X_train2[row_ix, 4], X_train2[row_ix, 14], label=str(label))\n",
        "plt.legend()\n",
        "plt.show()"
      ],
      "execution_count": 80,
      "outputs": [
        {
          "output_type": "display_data",
          "data": {
            "image/png": "[encoded data removed]",
            "text/plain": [
              "<Figure size 432x288 with 1 Axes>"
            ]
          },
          "metadata": {
            "needs_background": "light"
          }
        }
      ]
    },
    {
      "cell_type": "code",
      "metadata": {
        "id": "iYRWFwDve4dK"
      },
      "source": [
        "y_train2 = pd.DataFrame(y_train2)\n",
        "X_train2 = pd.DataFrame(X_train2)"
      ],
      "execution_count": 81,
      "outputs": []
    },
    {
      "cell_type": "code",
      "metadata": {
        "id": "xhadYewKb9_q",
        "outputId": "3b60f3d7-20f4-45f7-e640-b368625a4530",
        "colab": {
          "base_uri": "https://localhost:8080/",
          "height": 582
        }
      },
      "source": [
        "# instanciando modelo 'ml_SVC' de hiperparâmetros default\n",
        "ml_SVC2 = SVC(probability=True, random_state=64)\n",
        "print(ml_SVC2)\n",
        "\n",
        "# executando o treinamento do modelo\n",
        "train_model(ml_SVC2,X_train2,y_train2)"
      ],
      "execution_count": 82,
      "outputs": [
        {
          "output_type": "stream",
          "name": "stdout",
          "text": [
            "SVC(C=1.0, break_ties=False, cache_size=200, class_weight=None, coef0=0.0,\n",
            "    decision_function_shape='ovr', degree=3, gamma='scale', kernel='rbf',\n",
            "    max_iter=-1, probability=True, random_state=64, shrinking=True, tol=0.001,\n",
            "    verbose=False)\n"
          ]
        },
        {
          "output_type": "stream",
          "name": "stderr",
          "text": [
            "/usr/local/lib/python3.7/dist-packages/sklearn/utils/validation.py:760: DataConversionWarning:\n",
            "\n",
            "A column-vector y was passed when a 1d array was expected. Please change the shape of y to (n_samples, ), for example using ravel().\n",
            "\n"
          ]
        },
        {
          "output_type": "display_data",
          "data": {
            "image/png": "[encoded data removed]",
            "text/plain": [
              "<Figure size 432x432 with 2 Axes>"
            ]
          },
          "metadata": {
            "needs_background": "light"
          }
        }
      ]
    },
    {
      "cell_type": "code",
      "metadata": {
        "id": "JgMCr9a0dbF-",
        "outputId": "d7de0c9a-271f-4c1a-d293-4cb060bca6ab",
        "colab": {
          "base_uri": "https://localhost:8080/",
          "height": 737
        }
      },
      "source": [
        "estat(ml_SVC2, X_train2, y_train2)"
      ],
      "execution_count": 67,
      "outputs": [
        {
          "output_type": "stream",
          "name": "stdout",
          "text": [
            "*********** Estatísticas da Base de Treinamento ************************\n",
            "\n",
            "              precision    recall  f1-score   support\n",
            "\n",
            "           0       0.79      0.77      0.78       644\n",
            "           1       0.77      0.79      0.78       644\n",
            "\n",
            "    accuracy                           0.78      1288\n",
            "   macro avg       0.78      0.78      0.78      1288\n",
            "weighted avg       0.78      0.78      0.78      1288\n",
            "\n",
            "*********** Estatísticas da Base de Teste ******************************\n",
            "\n",
            "              precision    recall  f1-score   support\n",
            "\n",
            "           0       0.92      0.74      0.82       276\n",
            "           1       0.46      0.78      0.58        78\n",
            "\n",
            "    accuracy                           0.75       354\n",
            "   macro avg       0.69      0.76      0.70       354\n",
            "weighted avg       0.82      0.75      0.77       354\n",
            "\n"
          ]
        },
        {
          "output_type": "stream",
          "name": "stderr",
          "text": [
            "/usr/local/lib/python3.7/dist-packages/sklearn/utils/deprecation.py:87: FutureWarning:\n",
            "\n",
            "Function plot_precision_recall_curve is deprecated; This will be removed in v0.5.0. Please use scikitplot.metrics.plot_precision_recall instead.\n",
            "\n"
          ]
        },
        {
          "output_type": "display_data",
          "data": {
            "image/png": "[encoded data removed]",
            "text/plain": [
              "<Figure size 432x288 with 1 Axes>"
            ]
          },
          "metadata": {
            "needs_background": "light"
          }
        }
      ]
    },
    {
      "cell_type": "code",
      "metadata": {
        "id": "MnWglYhzjoyg"
      },
      "source": [
        ""
      ],
      "execution_count": null,
      "outputs": []
    }
  ]
}